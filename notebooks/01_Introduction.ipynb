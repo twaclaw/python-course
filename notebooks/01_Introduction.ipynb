{
 "cells": [
  {
   "cell_type": "markdown",
   "metadata": {
    "slideshow": {
     "slide_type": "slide"
    }
   },
   "source": [
    "##### <img src=\"images/python.png\" height=\"100px\" width=\"100px\">\n",
    "\n",
    "# <center>Python Crash-Course </center>\n",
    "### <center>Diego Sandoval</center>\n",
    "### <center>Kigali, 05.03.2019</center>\n",
    "  "
   ]
  },
  {
   "cell_type": "markdown",
   "metadata": {
    "slideshow": {
     "slide_type": "slide"
    }
   },
   "source": [
    "# Outline\n",
    "* Introduction\n",
    "* Why Python?\n",
    "* Hands on Python\n",
    "* Working with Jupyter"
   ]
  },
  {
   "cell_type": "markdown",
   "metadata": {
    "slideshow": {
     "slide_type": "slide"
    }
   },
   "source": [
    "# Introduction"
   ]
  },
  {
   "cell_type": "markdown",
   "metadata": {
    "slideshow": {
     "slide_type": "subslide"
    }
   },
   "source": [
    "## Programming as literacy "
   ]
  },
  {
   "cell_type": "markdown",
   "metadata": {
    "slideshow": {
     "slide_type": "subslide"
    }
   },
   "source": [
    "## Am I going to learn to program in 4 hours?"
   ]
  },
  {
   "cell_type": "markdown",
   "metadata": {
    "slideshow": {
     "slide_type": "fragment"
    }
   },
   "source": [
    "## Or in one week? Or in one month?"
   ]
  },
  {
   "cell_type": "markdown",
   "metadata": {
    "slideshow": {
     "slide_type": "subslide"
    }
   },
   "source": [
    "[Teach yourself programming in 10 years](http://norvig.com/21-days.html)"
   ]
  },
  {
   "cell_type": "markdown",
   "metadata": {
    "slideshow": {
     "slide_type": "slide"
    }
   },
   "source": [
    "# Where to find information?\n",
    "* Official documentation and tutorials are usually very good\n",
    "    * https://scikit-learn.org/stable/tutorial/basic/tutorial.html\n",
    "    * https://pandas.pydata.org/pandas-docs/stable/getting_started/tutorials.html\n",
    "    * https://nbviewer.jupyter.org/github/justmarkham/pandas-videos/blob/master/pandas.ipynb"
   ]
  },
  {
   "cell_type": "markdown",
   "metadata": {
    "slideshow": {
     "slide_type": "subslide"
    }
   },
   "source": [
    "<img src=\"https://www.safaribooksonline.com/library/cover/9781449323592/360h/\" width=\"300\" height=\"200\">\n",
    "\n",
    "Python for data analysis Wes Mckinney"
   ]
  },
  {
   "cell_type": "markdown",
   "metadata": {
    "slideshow": {
     "slide_type": "subslide"
    }
   },
   "source": [
    "http://www-star.st-and.ac.uk/~pw31/CompAstro/IntroToPython.pdf"
   ]
  },
  {
   "cell_type": "markdown",
   "metadata": {
    "slideshow": {
     "slide_type": "subslide"
    }
   },
   "source": [
    "## What this course is about?"
   ]
  },
  {
   "cell_type": "markdown",
   "metadata": {
    "slideshow": {
     "slide_type": "subslide"
    }
   },
   "source": [
    "## What this course is not about?\n",
    "\n",
    "* Algorithms and data structures\n",
    "* Design patterns\n",
    "* Computer science\n",
    "\n"
   ]
  },
  {
   "cell_type": "markdown",
   "metadata": {
    "slideshow": {
     "slide_type": "subslide"
    }
   },
   "source": [
    " \n",
    " <tr>\n",
    "        <td><img src=\"https://mitpress.mit.edu/sites/default/files/styles/large_book_cover/http/mitp-content-server.mit.edu%3A18180/books/covers/cover/%3Fcollid%3Dbooks_covers_0%26isbn%3D9780262033848%26type%3D.jpg?itok=0zBreuLA\" height=\"200px\" width=\"200px\"></td>\n",
    "    <td><img src=\"http://www.algorist.com/images/adm2cover.jpg\" height=\"200px\" width=\"200px\"></td>\n",
    " </tr>"
   ]
  },
  {
   "cell_type": "markdown",
   "metadata": {
    "slideshow": {
     "slide_type": "subslide"
    }
   },
   "source": [
    "### However, a few notes on complexity\n",
    "\n",
    "<img src=\"images/complexity.png\" alt=\"complexity\" width=\"800\"/>\n",
    "\n",
    " \n",
    "Source: http://bigocheatsheet.com/"
   ]
  },
  {
   "cell_type": "markdown",
   "metadata": {
    "slideshow": {
     "slide_type": "subslide"
    }
   },
   "source": [
    "### Example: binary search\n"
   ]
  },
  {
   "cell_type": "markdown",
   "metadata": {
    "slideshow": {
     "slide_type": "fragment"
    }
   },
   "source": [
    "<tr>\n",
    "    <td><img src=\"images/door.png\" width=\"40px\" height=\"40px\"></td>\n",
    "    <td><img src=\"images/door.png\" width=\"40px\" height=\"40px\"></td>\n",
    "    <td><img src=\"images/door.png\" width=\"40px\" height=\"40px\"></td>\n",
    "    <td><img src=\"images/door.png\" width=\"40px\" height=\"40px\"></td>\n",
    "    <td><img src=\"images/door.png\" width=\"40px\" height=\"40px\"></td>\n",
    "    <td><img src=\"images/door.png\" width=\"40px\" height=\"40px\"></td>\n",
    "    <td><img src=\"images/door.png\" width=\"40px\" height=\"40px\"></td>\n",
    "    <td><img src=\"images/door.png\" width=\"40px\" height=\"40px\"></td>\n",
    "    <td><img src=\"images/door.png\" width=\"40px\" height=\"40px\"></td>\n",
    "    <td><img src=\"images/door.png\" width=\"40px\" height=\"40px\"></td>\n",
    "    <td><img src=\"images/door.png\" width=\"40px\" height=\"40px\"></td>\n",
    "    <td><img src=\"images/door.png\" width=\"40px\" height=\"40px\"></td>\n",
    "    <td><img src=\"images/door.png\" width=\"40px\" height=\"40px\"></td>\n",
    "    <td><img src=\"images/door.png\" width=\"40px\" height=\"40px\"></td>\n",
    "    <td><img src=\"images/door.png\" width=\"40px\" height=\"40px\"></td>\n",
    "</tr>"
   ]
  },
  {
   "cell_type": "markdown",
   "metadata": {
    "slideshow": {
     "slide_type": "subslide"
    }
   },
   "source": [
    "#### O($n$)\n"
   ]
  },
  {
   "cell_type": "code",
   "execution_count": 2,
   "metadata": {
    "slideshow": {
     "slide_type": "fragment"
    }
   },
   "outputs": [
    {
     "data": {
      "text/plain": [
       "[94, 86, 42, 18, 34, 77, 90, 68, 74, 34, 17, 21, 57, 11, 40, 49, 71, 34, 8, 5]"
      ]
     },
     "execution_count": 2,
     "metadata": {},
     "output_type": "execute_result"
    }
   ],
   "source": [
    "import random\n",
    "array = [random.randint(1,100) for _ in range(20)]\n",
    "array"
   ]
  },
  {
   "cell_type": "code",
   "execution_count": 3,
   "metadata": {
    "slideshow": {
     "slide_type": "fragment"
    }
   },
   "outputs": [
    {
     "name": "stdout",
     "output_type": "stream",
     "text": [
      "930\n"
     ]
    }
   ],
   "source": [
    "s = 0\n",
    "for i in array:\n",
    "    s += i\n",
    "\n",
    "print(s)"
   ]
  },
  {
   "cell_type": "markdown",
   "metadata": {
    "slideshow": {
     "slide_type": "subslide"
    }
   },
   "source": [
    "#### O($n^2$)"
   ]
  },
  {
   "cell_type": "code",
   "execution_count": 4,
   "metadata": {
    "slideshow": {
     "slide_type": "fragment"
    }
   },
   "outputs": [
    {
     "data": {
      "text/plain": [
       "[94, 86, 42, 18, 34, 77, 90, 68, 74, 34, 17, 21, 57, 11, 40, 49, 71, 34, 8, 5]"
      ]
     },
     "execution_count": 4,
     "metadata": {},
     "output_type": "execute_result"
    }
   ],
   "source": [
    "array"
   ]
  },
  {
   "cell_type": "markdown",
   "metadata": {
    "slideshow": {
     "slide_type": "fragment"
    }
   },
   "source": [
    "Find pairs of elements that add up to a target"
   ]
  },
  {
   "cell_type": "code",
   "execution_count": 5,
   "metadata": {
    "slideshow": {
     "slide_type": "fragment"
    }
   },
   "outputs": [],
   "source": [
    "N = len(array)\n",
    "target = 33\n",
    "solutions = []\n",
    "for i in range(N):\n",
    "    for j in range(i, N):\n",
    "        if i + j == target:\n",
    "            solutions.append((i,j))\n"
   ]
  },
  {
   "cell_type": "markdown",
   "metadata": {
    "slideshow": {
     "slide_type": "fragment"
    }
   },
   "source": [
    "(this is not the most efficient solution, there is a O(n) algorithm"
   ]
  },
  {
   "cell_type": "markdown",
   "metadata": {
    "slideshow": {
     "slide_type": "subslide"
    }
   },
   "source": [
    "#### O($2^n$)"
   ]
  },
  {
   "cell_type": "code",
   "execution_count": null,
   "metadata": {
    "slideshow": {
     "slide_type": "fragment"
    }
   },
   "outputs": [],
   "source": [
    "def fibonacci(n):\n",
    "    if n < 2:\n",
    "        return n \n",
    "    else:\n",
    "        return  fibonacci(n-1) + fibonacci(n-2)"
   ]
  },
  {
   "cell_type": "code",
   "execution_count": null,
   "metadata": {
    "slideshow": {
     "slide_type": "fragment"
    }
   },
   "outputs": [],
   "source": [
    "# try different arguments: 10, 20, 30, 40, 50\n",
    "print(fibonacci(20))"
   ]
  },
  {
   "cell_type": "markdown",
   "metadata": {
    "slideshow": {
     "slide_type": "subslide"
    }
   },
   "source": [
    "* Keep always complexity in mind\n",
    "* Avoid explicit loops whenever possible\n",
    "* Use recursion carefully"
   ]
  },
  {
   "cell_type": "markdown",
   "metadata": {
    "slideshow": {
     "slide_type": "slide"
    }
   },
   "source": [
    "# Why Python?"
   ]
  },
  {
   "cell_type": "markdown",
   "metadata": {
    "slideshow": {
     "slide_type": "subslide"
    }
   },
   "source": [
    "## There are many programming languages"
   ]
  },
  {
   "cell_type": "markdown",
   "metadata": {
    "slideshow": {
     "slide_type": "subslide"
    }
   },
   "source": [
    "<img src=\"images/programming_languages.jpg\" height=\"800\" width=\"800\">\n",
    "\n",
    "[[.]](https://devrant.com/rants/389177/the-real-comparison-of-programming-language-in-my-opinion)"
   ]
  },
  {
   "cell_type": "markdown",
   "metadata": {
    "slideshow": {
     "slide_type": "subslide"
    }
   },
   "source": [
    "## The rise of Python\n",
    "\n",
    "<img src=\"./images/economist.png\" height=\"500\" width=\"600\">\n",
    "\n",
    "[Article at the economist](https://www.economist.com/science-and-technology/2018/07/19/python-has-brought-computer-programming-to-a-vast-new-audience)"
   ]
  },
  {
   "cell_type": "markdown",
   "metadata": {
    "slideshow": {
     "slide_type": "subslide"
    }
   },
   "source": [
    "### Who uses Python?\n",
    "\n",
    "\n",
    "* Dropbox\n",
    "* Youtube\n",
    "    > Python where we can, C++ where we must\n",
    "* Blender  https://www.blender.org/about/projects/\n",
    "* https://en.wikipedia.org/wiki/List_of_Python_software\n",
    "* Spotify → Django https://labs.spotify.com/2013/03/20/how-we-use-python-at-spotify/\n"
   ]
  },
  {
   "cell_type": "markdown",
   "metadata": {
    "slideshow": {
     "slide_type": "subslide"
    }
   },
   "source": [
    "### Python incredible ecosystem\n",
    "\n",
    "<img src=\"images/ecosystem.webp\" width=\"600\" height=\"500\">\n",
    "\n",
    "[Source: DataCamp](https://www.datacamp.com/community/blog/python-scientific-computing-case)"
   ]
  },
  {
   "cell_type": "markdown",
   "metadata": {
    "slideshow": {
     "slide_type": "subslide"
    }
   },
   "source": [
    "<img src=\"images/anaconda.png\" width=\"600\" height=\"500\">\n",
    "\n",
    "[Source: Anaconda](https://www.anaconda.com/distribution/)"
   ]
  },
  {
   "cell_type": "markdown",
   "metadata": {
    "slideshow": {
     "slide_type": "subslide"
    }
   },
   "source": [
    "### Python shell, a calculator"
   ]
  },
  {
   "cell_type": "markdown",
   "metadata": {
    "slideshow": {
     "slide_type": "subslide"
    }
   },
   "source": [
    "### How does Python code looks like?\n",
    "\n",
    "#### Motivational examples\n",
    "\n",
    "* Finding the greatest common divisor\n",
    "* Using a web api\n",
    "* MNIST classification using a feed-forward neural network"
   ]
  },
  {
   "cell_type": "markdown",
   "metadata": {
    "slideshow": {
     "slide_type": "slide"
    }
   },
   "source": [
    "# Let's start"
   ]
  },
  {
   "cell_type": "markdown",
   "metadata": {
    "slideshow": {
     "slide_type": "subslide"
    }
   },
   "source": [
    "## Let's make sure everything is installed properly "
   ]
  },
  {
   "cell_type": "markdown",
   "metadata": {
    "slideshow": {
     "slide_type": "subslide"
    }
   },
   "source": [
    "## git clone https://github.com/twaclaw/python-course.git course "
   ]
  },
  {
   "cell_type": "code",
   "execution_count": null,
   "metadata": {
    "slideshow": {
     "slide_type": "subslide"
    }
   },
   "outputs": [],
   "source": [
    "print(\"hello world!\")"
   ]
  },
  {
   "cell_type": "code",
   "execution_count": null,
   "metadata": {
    "slideshow": {
     "slide_type": "subslide"
    }
   },
   "outputs": [],
   "source": [
    "import this"
   ]
  },
  {
   "cell_type": "markdown",
   "metadata": {
    "slideshow": {
     "slide_type": "slide"
    }
   },
   "source": [
    "## Data types\n",
    " Python is dynamically typed\n",
    "\n",
    "* Int, Float, Boolean: important when casting\n",
    "    * Boolean conditions \n",
    "    * type(.)\n",
    "    * cast strings to types\n",
    "    * operators: +, -, /, *, %"
   ]
  },
  {
   "cell_type": "markdown",
   "metadata": {
    "slideshow": {
     "slide_type": "slide"
    }
   },
   "source": [
    "## Strings, arrays\n",
    "* Strings\n",
    "* Lists\n",
    "    * .append(), .add(), .sort(), etc.\n",
    "* Indexing and slicing\n",
    "    * Negative indexes\n",
    "    * Slicing\n",
    "    * Map reduce\n",
    "    "
   ]
  },
  {
   "cell_type": "code",
   "execution_count": null,
   "metadata": {
    "slideshow": {
     "slide_type": "subslide"
    }
   },
   "outputs": [],
   "source": [
    "# Map\n",
    "items = [1, 2, 3, 4, 5]\n",
    "squared = []\n",
    "for i in items:\n",
    "    squared.append(i**2)\n",
    "\n",
    "print(squared)"
   ]
  },
  {
   "cell_type": "code",
   "execution_count": null,
   "metadata": {
    "slideshow": {
     "slide_type": "subslide"
    }
   },
   "outputs": [],
   "source": [
    "def square(x):\n",
    "    return (x*x)\n",
    "\n",
    "items = [1, 2, 3, 4, 5]\n",
    "squared = list(map(square, items))\n",
    "print(squared)"
   ]
  },
  {
   "cell_type": "code",
   "execution_count": null,
   "metadata": {
    "slideshow": {
     "slide_type": "subslide"
    }
   },
   "outputs": [],
   "source": [
    "items = [1, 2, 3, 4, 5]\n",
    "squared = list(map(lambda x: x**2, items))\n",
    "print(squared)"
   ]
  },
  {
   "cell_type": "code",
   "execution_count": null,
   "metadata": {
    "slideshow": {
     "slide_type": "subslide"
    }
   },
   "outputs": [],
   "source": [
    "# Reduce\n",
    "product = 1\n",
    "list = [1, 2, 3, 4]\n",
    "for num in list:\n",
    "    product = product * num\n",
    "\n",
    "print(product)"
   ]
  },
  {
   "cell_type": "code",
   "execution_count": null,
   "metadata": {
    "slideshow": {
     "slide_type": "subslide"
    }
   },
   "outputs": [],
   "source": [
    "from functools import reduce\n",
    "product = reduce((lambda x, y: x * y), [1, 2, 3, 4])\n",
    "print(product)"
   ]
  },
  {
   "cell_type": "markdown",
   "metadata": {
    "slideshow": {
     "slide_type": "slide"
    }
   },
   "source": [
    "## Control Flow Statements\n",
    "* if\n",
    "* for\n",
    "* while\n"
   ]
  },
  {
   "cell_type": "markdown",
   "metadata": {
    "slideshow": {
     "slide_type": "subslide"
    }
   },
   "source": [
    "## Other data structures\n",
    "* Tupples\n",
    "* Dictionaries\n",
    "* Sets\n",
    "* In this section we focus on lists and dictionaries"
   ]
  },
  {
   "cell_type": "markdown",
   "metadata": {
    "slideshow": {
     "slide_type": "subslide"
    }
   },
   "source": [
    "## Exercises\n",
    "* Write a Program to sum all elements in a list"
   ]
  },
  {
   "cell_type": "code",
   "execution_count": null,
   "metadata": {
    "scrolled": false,
    "slideshow": {
     "slide_type": "subslide"
    }
   },
   "outputs": [],
   "source": [
    "import numpy as np\n",
    "\n",
    "N = 100\n",
    "MIN_VALUE = -100\n",
    "MAX_VALUE = 100\n",
    "\n",
    "mylist  = [np.random.randint(MIN_VALUE, MAX_VALUE) for i in range(N)]\n",
    "print(mylist)"
   ]
  },
  {
   "cell_type": "markdown",
   "metadata": {
    "slideshow": {
     "slide_type": "slide"
    }
   },
   "source": [
    "## Command line arguments\n",
    "* Receiving and verifying arguments\n",
    "* Example hello world\n",
    "* Example hello world ntimes\n"
   ]
  },
  {
   "cell_type": "markdown",
   "metadata": {
    "slideshow": {
     "slide_type": "slide"
    }
   },
   "source": [
    "## Functions\n",
    "\n",
    "* Map reduce\n",
    "* Example mean and variance\n",
    "* Examples division, pop from list \n",
    "    * Exceptions"
   ]
  },
  {
   "cell_type": "markdown",
   "metadata": {
    "slideshow": {
     "slide_type": "slide"
    }
   },
   "source": [
    "## Working with files\n",
    "* Implement wc\n",
    "* Implement grep\n",
    "* Histogram of words starting with each letter \n",
    "    * print ('*' * 10)\n",
    "    * print a list of letters and the number of ocurrences if they fit on the screen otherwise ... "
   ]
  },
  {
   "cell_type": "markdown",
   "metadata": {
    "slideshow": {
     "slide_type": "subslide"
    }
   },
   "source": [
    "## Exercise\n",
    "\n",
    "Convert the table located in data/energy_countries.csv into a dictionary. This table is a modified version of the original data obtained from:\n",
    "\n",
    "[the world bank](https://data.worldbank.org/indicator/eg.fec.rnew.zs)\n",
    "\n",
    "The table format is:\n",
    "\n",
    "Country name | Country code | 1990 | .... |2015|\n"
   ]
  },
  {
   "cell_type": "markdown",
   "metadata": {
    "slideshow": {
     "slide_type": "subslide"
    }
   },
   "source": [
    "## Filters"
   ]
  },
  {
   "cell_type": "code",
   "execution_count": null,
   "metadata": {
    "slideshow": {
     "slide_type": "subslide"
    }
   },
   "outputs": [],
   "source": [
    "array = [7, 8, 2, 4, 3, 1]\n",
    "\n",
    "def isEven(x):\n",
    "    return x % 2 == 0\n",
    "\n",
    "def above(x):\n",
    "    return x > 6\n",
    "\n",
    "result = filter(isEven, array)\n",
    "print(list(result))\n",
    "\n",
    "\n",
    "result = filter(above, array)\n",
    "print(list(result))"
   ]
  },
  {
   "cell_type": "code",
   "execution_count": null,
   "metadata": {
    "slideshow": {
     "slide_type": "slide"
    }
   },
   "outputs": [],
   "source": [
    "# !wget https://ocw.mit.edu/ans7870/6/6.006/s08/lecturenotes/files/t8.shakespeare.txt\n"
   ]
  },
  {
   "cell_type": "markdown",
   "metadata": {
    "slideshow": {
     "slide_type": "slide"
    }
   },
   "source": [
    "* Working with libraries\n",
    "* Installing packages \n",
    "* Making packages (beyond the scope of this course)\n",
    "* math\n",
    "* random"
   ]
  },
  {
   "cell_type": "markdown",
   "metadata": {
    "slideshow": {
     "slide_type": "slide"
    }
   },
   "source": [
    "* Jupyter\n",
    "* Numpy\n",
    "* Pandas \n",
    "* Matplotlib  \n",
    "* Numpy\n"
   ]
  },
  {
   "cell_type": "markdown",
   "metadata": {
    "slideshow": {
     "slide_type": "slide"
    }
   },
   "source": [
    "# Jupyter\n",
    "\n",
    "* Cells\n",
    "    * Markdown\n",
    "    * LaTeX\n",
    "    * Code\n",
    "    * Slides\n",
    "* Example notebooks"
   ]
  },
  {
   "cell_type": "markdown",
   "metadata": {
    "slideshow": {
     "slide_type": "subslide"
    }
   },
   "source": [
    "## Exercises:\n",
    "* Play around with the data/energy_countries.csv file\n"
   ]
  },
  {
   "cell_type": "markdown",
   "metadata": {
    "slideshow": {
     "slide_type": "subslide"
    }
   },
   "source": [
    "## Explore the top rated movies series\n",
    "* value counts\n",
    "* head()\n",
    "* info()\n",
    "* describe(): movies.genre.describe()\n",
    "* unique\n",
    "* plot "
   ]
  },
  {
   "cell_type": "code",
   "execution_count": null,
   "metadata": {
    "slideshow": {
     "slide_type": "subslide"
    }
   },
   "outputs": [],
   "source": [
    "# Play around with the top rated movies data set.\n",
    "import pandas as pd\n",
    "movies = pd.read_csv('http://bit.ly/imdbratings')\n"
   ]
  },
  {
   "cell_type": "code",
   "execution_count": null,
   "metadata": {
    "slideshow": {
     "slide_type": "subslide"
    }
   },
   "outputs": [],
   "source": [
    "\n",
    "# histogram of the 'duration' Series (shows the distribution of a numerical variable)\n",
    "movies.duration.plot(kind='hist')"
   ]
  },
  {
   "cell_type": "markdown",
   "metadata": {
    "slideshow": {
     "slide_type": "slide"
    }
   },
   "source": [
    "# Numpy exercises\n",
    "* Vectorization\n",
    "* Time verification"
   ]
  }
 ],
 "metadata": {
  "celltoolbar": "Slideshow",
  "kernelspec": {
   "display_name": "Python 3",
   "language": "python",
   "name": "python3"
  },
  "language_info": {
   "codemirror_mode": {
    "name": "ipython",
    "version": 3
   },
   "file_extension": ".py",
   "mimetype": "text/x-python",
   "name": "python",
   "nbconvert_exporter": "python",
   "pygments_lexer": "ipython3",
   "version": "3.6.6"
  }
 },
 "nbformat": 4,
 "nbformat_minor": 2
}

{
 "cells": [
  {
   "cell_type": "code",
   "execution_count": 1,
   "metadata": {
    "slideshow": {
     "slide_type": "slide"
    }
   },
   "outputs": [],
   "source": [
    "FILENAME = 'data/dict.txt'\n"
   ]
  },
  {
   "cell_type": "code",
   "execution_count": 2,
   "metadata": {},
   "outputs": [],
   "source": [
    "fd = open(FILENAME, 'r')"
   ]
  },
  {
   "cell_type": "code",
   "execution_count": 3,
   "metadata": {},
   "outputs": [],
   "source": [
    "words = {}\n",
    "for line in fd:\n",
    "    first_letter = line[0]\n",
    "    if first_letter in words:\n",
    "        words[first_letter] = words[first_letter] + 1\n",
    "    else:\n",
    "        words[first_letter] = 1\n"
   ]
  },
  {
   "cell_type": "code",
   "execution_count": 6,
   "metadata": {},
   "outputs": [
    {
     "name": "stdout",
     "output_type": "stream",
     "text": [
      "a ( 4172 ) *****************************************\n",
      "b ( 3841 ) **************************************\n",
      "c ( 5418 ) ******************************************************\n",
      "d ( 3263 ) ********************************\n",
      "e ( 2328 ) ***********************\n",
      "f ( 2224 ) **********************\n",
      "g ( 1726 ) *****************\n",
      "h ( 1923 ) *******************\n",
      "i ( 2342 ) ***********************\n",
      "j ( 543 ) *****\n",
      "k ( 508 ) *****\n",
      "l ( 1730 ) *****************\n",
      "m ( 2821 ) ****************************\n",
      "n ( 1007 ) **********\n",
      "o ( 1172 ) ***********\n",
      "p ( 4098 ) ****************************************\n",
      "q ( 301 ) ***\n",
      "r ( 3088 ) ******************************\n",
      "s ( 6053 ) ************************************************************\n",
      "t ( 2682 ) **************************\n",
      "u ( 880 ) ********\n",
      "v ( 851 ) ********\n",
      "w ( 1403 ) **************\n",
      "x ( 20 ) \n",
      "y ( 184 ) *\n",
      "z ( 100 ) *\n"
     ]
    }
   ],
   "source": [
    "for w in words:\n",
    "    if w >= 'a' and w <= 'z':\n",
    "        freq = words[w]\n",
    "        print(w,'(',freq,')', '*'*(freq//100))"
   ]
  },
  {
   "cell_type": "code",
   "execution_count": null,
   "metadata": {},
   "outputs": [],
   "source": [
    "fd.close()"
   ]
  }
 ],
 "metadata": {
  "kernelspec": {
   "display_name": "Python 3",
   "language": "python",
   "name": "python3"
  },
  "language_info": {
   "codemirror_mode": {
    "name": "ipython",
    "version": 3
   },
   "file_extension": ".py",
   "mimetype": "text/x-python",
   "name": "python",
   "nbconvert_exporter": "python",
   "pygments_lexer": "ipython3",
   "version": "3.6.6"
  }
 },
 "nbformat": 4,
 "nbformat_minor": 2
}
